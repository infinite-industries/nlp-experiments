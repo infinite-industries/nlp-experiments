{
 "cells": [
  {
   "cell_type": "code",
   "execution_count": 529,
   "metadata": {},
   "outputs": [],
   "source": [
    "# optional text to test stuff skip in most cases\n",
    "text_in = ('Doors at 8pm. Art is important. What happened to holiday season?')"
   ]
  },
  {
   "cell_type": "code",
   "execution_count": 530,
   "metadata": {},
   "outputs": [],
   "source": [
    "import spacy\n",
    "from spacy import displacy\n",
    "\n",
    "import json\n",
    "\n",
    "from bs4 import BeautifulSoup"
   ]
  },
  {
   "cell_type": "code",
   "execution_count": 531,
   "metadata": {},
   "outputs": [],
   "source": [
    "nlp = spacy.load(\"en_core_web_sm\")"
   ]
  },
  {
   "cell_type": "code",
   "execution_count": 532,
   "metadata": {},
   "outputs": [
    {
     "name": "stdout",
     "output_type": "stream",
     "text": [
      "44\n",
      "{'admission_fee': 'free', 'bitly_link': None, 'brief_description': 'An interactive exhibit experience with artwork by sculptor and painter John Tuska.', 'createdAt': '2023-12-06T20:05:58.791Z', 'description': '<p>An interactive exhibit experience providing a moment to reflect upon your body, mind, and spirit with the artwork of sculptor and painter John Tuska.</p>', 'eventbrite_link': None, 'fb_event_link': 'https://www.facebook.com/tuskainc', 'id': 'd0252560-ca8c-4522-87f0-53f47fb3eccd', 'image': 'https://infinite.industries/uploads/545d0438-6f68-4dbd-9b2b-a5054bb396d2.jpg', 'links': [], 'reviewed_by_org': None, 'slug': \"mythos:-tuska's-art-of-self-reflection\", 'social_image': '', 'tags': ['gallery'], 'category': 'gallery-show', 'condition': [], 'mode': 'in-person', 'ticket_link': '', 'title': \"Mythos: Tuska's Art of Self Reflection\", 'updatedAt': '2023-12-07T17:51:11.889Z', 'venue_id': '597ba75c-4832-41ea-9106-01f6cfd5b88c', 'verified': True, 'website_link': 'https://www.tuskastore.com/tuska-studio-home', 'multi_day': False, 'date_times': [{'id': None, 'start_time': '2023-12-22T14:30:00.000Z', 'end_time': '2023-12-22T23:00:00.000Z', 'venue_id': '597ba75c-4832-41ea-9106-01f6cfd5b88c', 'timezone': 'US/Eastern', 'optional_title': ''}, {'id': None, 'start_time': '2023-12-23T14:30:00.000Z', 'end_time': '2023-12-23T22:00:00.000Z', 'venue_id': '597ba75c-4832-41ea-9106-01f6cfd5b88c', 'timezone': 'US/Eastern', 'optional_title': ''}, {'id': None, 'start_time': '2023-12-26T14:30:00.000Z', 'end_time': '2023-12-27T00:00:00.000Z', 'venue_id': '597ba75c-4832-41ea-9106-01f6cfd5b88c', 'timezone': 'US/Eastern', 'optional_title': ''}, {'id': None, 'start_time': '2023-12-27T14:30:00.000Z', 'end_time': '2023-12-28T00:00:00.000Z', 'venue_id': '597ba75c-4832-41ea-9106-01f6cfd5b88c', 'timezone': 'US/Eastern', 'optional_title': ''}, {'id': None, 'start_time': '2023-12-28T14:30:00.000Z', 'end_time': '2023-12-29T00:00:00.000Z', 'venue_id': '597ba75c-4832-41ea-9106-01f6cfd5b88c', 'timezone': 'US/Eastern', 'optional_title': ''}, {'id': None, 'start_time': '2023-12-29T14:30:00.000Z', 'end_time': '2023-12-29T23:00:00.000Z', 'venue_id': '597ba75c-4832-41ea-9106-01f6cfd5b88c', 'timezone': 'US/Eastern', 'optional_title': ''}, {'id': None, 'start_time': '2023-12-30T14:30:00.000Z', 'end_time': '2023-12-30T22:00:00.000Z', 'venue_id': '597ba75c-4832-41ea-9106-01f6cfd5b88c', 'timezone': 'US/Eastern', 'optional_title': ''}, {'id': None, 'start_time': '2023-12-31T18:00:00.000Z', 'end_time': '2023-12-31T22:00:00.000Z', 'venue_id': '597ba75c-4832-41ea-9106-01f6cfd5b88c', 'timezone': 'US/Eastern', 'optional_title': ''}, {'id': None, 'start_time': '2024-01-02T14:30:00.000Z', 'end_time': '2024-01-03T00:00:00.000Z', 'venue_id': '597ba75c-4832-41ea-9106-01f6cfd5b88c', 'timezone': 'US/Eastern', 'optional_title': ''}, {'id': None, 'start_time': '2024-01-03T14:30:00.000Z', 'end_time': '2024-01-04T00:00:00.000Z', 'venue_id': '597ba75c-4832-41ea-9106-01f6cfd5b88c', 'timezone': 'US/Eastern', 'optional_title': ''}, {'id': None, 'start_time': '2024-01-04T14:30:00.000Z', 'end_time': '2024-01-05T00:00:00.000Z', 'venue_id': '597ba75c-4832-41ea-9106-01f6cfd5b88c', 'timezone': 'US/Eastern', 'optional_title': ''}, {'id': None, 'start_time': '2024-01-05T14:30:00.000Z', 'end_time': '2024-01-05T23:00:00.000Z', 'venue_id': '597ba75c-4832-41ea-9106-01f6cfd5b88c', 'timezone': 'US/Eastern', 'optional_title': ''}, {'id': None, 'start_time': '2024-01-06T14:30:00.000Z', 'end_time': '2024-01-06T22:00:00.000Z', 'venue_id': '597ba75c-4832-41ea-9106-01f6cfd5b88c', 'timezone': 'US/Eastern', 'optional_title': ''}, {'id': None, 'start_time': '2024-01-07T18:00:00.000Z', 'end_time': '2024-01-07T22:00:00.000Z', 'venue_id': '597ba75c-4832-41ea-9106-01f6cfd5b88c', 'timezone': 'US/Eastern', 'optional_title': ''}, {'id': None, 'start_time': '2024-01-08T14:30:00.000Z', 'end_time': '2024-01-09T00:00:00.000Z', 'venue_id': '597ba75c-4832-41ea-9106-01f6cfd5b88c', 'timezone': 'US/Eastern', 'optional_title': ''}, {'id': None, 'start_time': '2024-01-09T14:30:00.000Z', 'end_time': '2024-01-10T00:00:00.000Z', 'venue_id': '597ba75c-4832-41ea-9106-01f6cfd5b88c', 'timezone': 'US/Eastern', 'optional_title': ''}, {'id': None, 'start_time': '2024-01-10T14:30:00.000Z', 'end_time': '2024-01-11T00:00:00.000Z', 'venue_id': '597ba75c-4832-41ea-9106-01f6cfd5b88c', 'timezone': 'US/Eastern', 'optional_title': ''}, {'id': None, 'start_time': '2024-01-11T14:30:00.000Z', 'end_time': '2024-01-12T00:00:00.000Z', 'venue_id': '597ba75c-4832-41ea-9106-01f6cfd5b88c', 'timezone': 'US/Eastern', 'optional_title': ''}, {'id': None, 'start_time': '2024-01-12T14:30:00.000Z', 'end_time': '2024-01-12T23:00:00.000Z', 'venue_id': '597ba75c-4832-41ea-9106-01f6cfd5b88c', 'timezone': 'US/Eastern', 'optional_title': ''}, {'id': None, 'start_time': '2024-01-13T14:30:00.000Z', 'end_time': '2024-01-13T22:00:00.000Z', 'venue_id': '597ba75c-4832-41ea-9106-01f6cfd5b88c', 'timezone': 'US/Eastern', 'optional_title': ''}, {'id': None, 'start_time': '2024-01-14T18:00:00.000Z', 'end_time': '2024-01-14T22:00:00.000Z', 'venue_id': '597ba75c-4832-41ea-9106-01f6cfd5b88c', 'timezone': 'US/Eastern', 'optional_title': ''}, {'id': None, 'start_time': '2024-01-16T14:30:00.000Z', 'end_time': '2024-01-17T00:00:00.000Z', 'venue_id': '597ba75c-4832-41ea-9106-01f6cfd5b88c', 'timezone': 'US/Eastern', 'optional_title': ''}, {'id': None, 'start_time': '2024-01-17T14:30:00.000Z', 'end_time': '2024-01-18T00:00:00.000Z', 'venue_id': '597ba75c-4832-41ea-9106-01f6cfd5b88c', 'timezone': 'US/Eastern', 'optional_title': ''}, {'id': None, 'start_time': '2024-01-18T14:30:00.000Z', 'end_time': '2024-01-19T00:00:00.000Z', 'venue_id': '597ba75c-4832-41ea-9106-01f6cfd5b88c', 'timezone': 'US/Eastern', 'optional_title': ''}, {'id': None, 'start_time': '2024-01-19T14:30:00.000Z', 'end_time': '2024-01-19T23:00:00.000Z', 'venue_id': '597ba75c-4832-41ea-9106-01f6cfd5b88c', 'timezone': 'US/Eastern', 'optional_title': ''}, {'id': None, 'start_time': '2024-01-20T14:30:00.000Z', 'end_time': '2024-01-20T22:00:00.000Z', 'venue_id': '597ba75c-4832-41ea-9106-01f6cfd5b88c', 'timezone': 'US/Eastern', 'optional_title': ''}, {'id': None, 'start_time': '2024-01-21T18:00:00.000Z', 'end_time': '2024-01-21T22:00:00.000Z', 'venue_id': '597ba75c-4832-41ea-9106-01f6cfd5b88c', 'timezone': 'US/Eastern', 'optional_title': ''}, {'id': None, 'start_time': '2024-01-22T14:30:00.000Z', 'end_time': '2024-01-23T00:00:00.000Z', 'venue_id': '597ba75c-4832-41ea-9106-01f6cfd5b88c', 'timezone': 'US/Eastern', 'optional_title': ''}, {'id': None, 'start_time': '2024-01-23T14:30:00.000Z', 'end_time': '2024-01-24T00:00:00.000Z', 'venue_id': '597ba75c-4832-41ea-9106-01f6cfd5b88c', 'timezone': 'US/Eastern', 'optional_title': ''}, {'id': None, 'start_time': '2024-01-24T14:30:00.000Z', 'end_time': '2024-01-25T00:00:00.000Z', 'venue_id': '597ba75c-4832-41ea-9106-01f6cfd5b88c', 'timezone': 'US/Eastern', 'optional_title': ''}, {'id': None, 'start_time': '2024-01-25T14:30:00.000Z', 'end_time': '2024-01-26T00:00:00.000Z', 'venue_id': '597ba75c-4832-41ea-9106-01f6cfd5b88c', 'timezone': 'US/Eastern', 'optional_title': ''}, {'id': None, 'start_time': '2024-01-26T14:30:00.000Z', 'end_time': '2024-01-26T23:00:00.000Z', 'venue_id': '597ba75c-4832-41ea-9106-01f6cfd5b88c', 'timezone': 'US/Eastern', 'optional_title': ''}, {'id': None, 'start_time': '2024-01-27T14:30:00.000Z', 'end_time': '2024-01-27T22:00:00.000Z', 'venue_id': '597ba75c-4832-41ea-9106-01f6cfd5b88c', 'timezone': 'US/Eastern', 'optional_title': ''}, {'id': None, 'start_time': '2024-01-28T18:00:00.000Z', 'end_time': '2024-01-28T22:00:00.000Z', 'venue_id': '597ba75c-4832-41ea-9106-01f6cfd5b88c', 'timezone': 'US/Eastern', 'optional_title': ''}, {'id': None, 'start_time': '2024-01-29T14:30:00.000Z', 'end_time': '2024-01-30T00:00:00.000Z', 'venue_id': '597ba75c-4832-41ea-9106-01f6cfd5b88c', 'timezone': 'US/Eastern', 'optional_title': ''}, {'id': None, 'start_time': '2024-01-30T14:30:00.000Z', 'end_time': '2024-01-31T00:00:00.000Z', 'venue_id': '597ba75c-4832-41ea-9106-01f6cfd5b88c', 'timezone': 'US/Eastern', 'optional_title': ''}, {'id': None, 'start_time': '2024-01-31T14:30:00.000Z', 'end_time': '2024-02-01T00:00:00.000Z', 'venue_id': '597ba75c-4832-41ea-9106-01f6cfd5b88c', 'timezone': 'US/Eastern', 'optional_title': ''}, {'id': None, 'start_time': '2024-02-01T14:30:00.000Z', 'end_time': '2024-02-02T00:00:00.000Z', 'venue_id': '597ba75c-4832-41ea-9106-01f6cfd5b88c', 'timezone': 'US/Eastern', 'optional_title': ''}, {'id': None, 'start_time': '2024-02-02T14:30:00.000Z', 'end_time': '2024-02-02T23:00:00.000Z', 'venue_id': '597ba75c-4832-41ea-9106-01f6cfd5b88c', 'timezone': 'US/Eastern', 'optional_title': ''}, {'id': None, 'start_time': '2024-02-03T14:30:00.000Z', 'end_time': '2024-02-03T22:00:00.000Z', 'venue_id': '597ba75c-4832-41ea-9106-01f6cfd5b88c', 'timezone': 'US/Eastern', 'optional_title': ''}, {'id': None, 'start_time': '2024-02-04T18:00:00.000Z', 'end_time': '2024-02-04T22:00:00.000Z', 'venue_id': '597ba75c-4832-41ea-9106-01f6cfd5b88c', 'timezone': 'US/Eastern', 'optional_title': ''}, {'id': None, 'start_time': '2024-02-05T14:30:00.000Z', 'end_time': '2024-02-06T00:00:00.000Z', 'venue_id': '597ba75c-4832-41ea-9106-01f6cfd5b88c', 'timezone': 'US/Eastern', 'optional_title': ''}, {'id': None, 'start_time': '2024-02-06T14:30:00.000Z', 'end_time': '2024-02-07T00:00:00.000Z', 'venue_id': '597ba75c-4832-41ea-9106-01f6cfd5b88c', 'timezone': 'US/Eastern', 'optional_title': ''}, {'id': None, 'start_time': '2024-02-07T14:30:00.000Z', 'end_time': '2024-02-08T00:00:00.000Z', 'venue_id': '597ba75c-4832-41ea-9106-01f6cfd5b88c', 'timezone': 'US/Eastern', 'optional_title': ''}, {'id': None, 'start_time': '2024-02-08T14:30:00.000Z', 'end_time': '2024-02-09T00:00:00.000Z', 'venue_id': '597ba75c-4832-41ea-9106-01f6cfd5b88c', 'timezone': 'US/Eastern', 'optional_title': ''}, {'id': None, 'start_time': '2024-02-09T14:30:00.000Z', 'end_time': '2024-02-09T23:00:00.000Z', 'venue_id': '597ba75c-4832-41ea-9106-01f6cfd5b88c', 'timezone': 'US/Eastern', 'optional_title': ''}, {'id': None, 'start_time': '2024-02-10T14:30:00.000Z', 'end_time': '2024-02-10T22:00:00.000Z', 'venue_id': '597ba75c-4832-41ea-9106-01f6cfd5b88c', 'timezone': 'US/Eastern', 'optional_title': ''}, {'id': None, 'start_time': '2024-02-11T18:00:00.000Z', 'end_time': '2024-02-11T22:00:00.000Z', 'venue_id': '597ba75c-4832-41ea-9106-01f6cfd5b88c', 'timezone': 'US/Eastern', 'optional_title': ''}, {'id': None, 'start_time': '2024-02-12T14:30:00.000Z', 'end_time': '2024-02-13T00:00:00.000Z', 'venue_id': '597ba75c-4832-41ea-9106-01f6cfd5b88c', 'timezone': 'US/Eastern', 'optional_title': ''}, {'id': None, 'start_time': '2024-02-13T14:30:00.000Z', 'end_time': '2024-02-14T00:00:00.000Z', 'venue_id': '597ba75c-4832-41ea-9106-01f6cfd5b88c', 'timezone': 'US/Eastern', 'optional_title': ''}, {'id': None, 'start_time': '2024-02-14T14:30:00.000Z', 'end_time': '2024-02-15T00:00:00.000Z', 'venue_id': '597ba75c-4832-41ea-9106-01f6cfd5b88c', 'timezone': 'US/Eastern', 'optional_title': ''}, {'id': None, 'start_time': '2024-02-15T14:30:00.000Z', 'end_time': '2024-02-16T00:00:00.000Z', 'venue_id': '597ba75c-4832-41ea-9106-01f6cfd5b88c', 'timezone': 'US/Eastern', 'optional_title': ''}, {'id': None, 'start_time': '2024-02-16T14:30:00.000Z', 'end_time': '2024-02-16T23:00:00.000Z', 'venue_id': '597ba75c-4832-41ea-9106-01f6cfd5b88c', 'timezone': 'US/Eastern', 'optional_title': ''}, {'id': None, 'start_time': '2024-02-17T14:30:00.000Z', 'end_time': '2024-02-17T22:00:00.000Z', 'venue_id': '597ba75c-4832-41ea-9106-01f6cfd5b88c', 'timezone': 'US/Eastern', 'optional_title': ''}, {'id': None, 'start_time': '2024-02-18T18:00:00.000Z', 'end_time': '2024-02-18T22:00:00.000Z', 'venue_id': '597ba75c-4832-41ea-9106-01f6cfd5b88c', 'timezone': 'US/Eastern', 'optional_title': ''}, {'id': None, 'start_time': '2024-02-19T14:30:00.000Z', 'end_time': '2024-02-20T00:00:00.000Z', 'venue_id': '597ba75c-4832-41ea-9106-01f6cfd5b88c', 'timezone': 'US/Eastern', 'optional_title': ''}, {'id': None, 'start_time': '2024-02-20T14:30:00.000Z', 'end_time': '2024-02-21T00:00:00.000Z', 'venue_id': '597ba75c-4832-41ea-9106-01f6cfd5b88c', 'timezone': 'US/Eastern', 'optional_title': ''}, {'id': None, 'start_time': '2024-02-21T14:30:00.000Z', 'end_time': '2024-02-22T00:00:00.000Z', 'venue_id': '597ba75c-4832-41ea-9106-01f6cfd5b88c', 'timezone': 'US/Eastern', 'optional_title': ''}, {'id': None, 'start_time': '2024-02-22T14:30:00.000Z', 'end_time': '2024-02-23T00:00:00.000Z', 'venue_id': '597ba75c-4832-41ea-9106-01f6cfd5b88c', 'timezone': 'US/Eastern', 'optional_title': ''}, {'id': None, 'start_time': '2024-02-23T14:30:00.000Z', 'end_time': '2024-02-23T23:00:00.000Z', 'venue_id': '597ba75c-4832-41ea-9106-01f6cfd5b88c', 'timezone': 'US/Eastern', 'optional_title': ''}, {'id': None, 'start_time': '2024-02-24T14:30:00.000Z', 'end_time': '2024-02-24T22:00:00.000Z', 'venue_id': '597ba75c-4832-41ea-9106-01f6cfd5b88c', 'timezone': 'US/Eastern', 'optional_title': ''}, {'id': None, 'start_time': '2024-02-25T18:00:00.000Z', 'end_time': '2024-02-25T22:00:00.000Z', 'venue_id': '597ba75c-4832-41ea-9106-01f6cfd5b88c', 'timezone': 'US/Eastern', 'optional_title': ''}, {'id': None, 'start_time': '2024-02-26T14:30:00.000Z', 'end_time': '2024-02-27T00:00:00.000Z', 'venue_id': '597ba75c-4832-41ea-9106-01f6cfd5b88c', 'timezone': 'US/Eastern', 'optional_title': ''}, {'id': None, 'start_time': '2024-02-27T14:30:00.000Z', 'end_time': '2024-02-28T00:00:00.000Z', 'venue_id': '597ba75c-4832-41ea-9106-01f6cfd5b88c', 'timezone': 'US/Eastern', 'optional_title': ''}, {'id': None, 'start_time': '2024-02-28T14:30:00.000Z', 'end_time': '2024-02-29T00:00:00.000Z', 'venue_id': '597ba75c-4832-41ea-9106-01f6cfd5b88c', 'timezone': 'US/Eastern', 'optional_title': ''}, {'id': None, 'start_time': '2024-02-29T14:30:00.000Z', 'end_time': '2024-03-01T00:00:00.000Z', 'venue_id': '597ba75c-4832-41ea-9106-01f6cfd5b88c', 'timezone': 'US/Eastern', 'optional_title': ''}], 'venue': None}\n"
     ]
    }
   ],
   "source": [
    "events = open('./data/sample_events.json')\n",
    "event_data = json.load(events)\n",
    "\n",
    "print(len(event_data['events']))\n",
    "print(event_data['events'][0])"
   ]
  },
  {
   "cell_type": "code",
   "execution_count": 533,
   "metadata": {},
   "outputs": [],
   "source": [
    "patterns = open('tagger.json')\n",
    "pattern_data = json.load(patterns)\n",
    "# print (pattern_data['tags']) "
   ]
  },
  {
   "cell_type": "code",
   "execution_count": 534,
   "metadata": {},
   "outputs": [],
   "source": [
    "ruler = nlp.add_pipe(\"entity_ruler\", before='ner')  \n",
    "ruler.add_patterns(pattern_data['tags'])"
   ]
  },
  {
   "cell_type": "code",
   "execution_count": 535,
   "metadata": {},
   "outputs": [
    {
     "name": "stdout",
     "output_type": "stream",
     "text": [
      "<p>Time to party prohibition style when the parties were bigger, the morals were looser &amp; the liquor was cheaper.</p><p>This New Year's Eve, dress to the nines &amp; dance the night away to live jazz by the Mudbug Stompers.</p><p>With specialty cocktails &amp; a champagne toast at midnight — ring in '24 like the old days!</p><p><em>21+, doors at 9</em></p>\n",
      "Time to party prohibition style when the parties were bigger, the morals were looser & the liquor was cheaper. This New Year's Eve, dress to the nines & dance the night away to live jazz by the Mudbug Stompers. With specialty cocktails & a champagne toast at midnight — ring in '24 like the old days! 21+, doors at 9\n"
     ]
    }
   ],
   "source": [
    "_event = event_data['events'][20]       #CHANGE ME!!!!! Think through 5 and 6\n",
    "\n",
    "print(_event['description'])\n",
    "soupy = BeautifulSoup(_event['description'])\n",
    "event_description = soupy.get_text(separator=' ')\n",
    "\n",
    "doc = nlp(event_description)\n",
    "#doc = nlp(text_in)\n",
    "\n",
    "print(event_description)\n"
   ]
  },
  {
   "cell_type": "code",
   "execution_count": 536,
   "metadata": {},
   "outputs": [
    {
     "data": {
      "text/html": [
       "<span class=\"tex2jax_ignore\"><div class=\"entities\" style=\"line-height: 2.5; direction: ltr\">Time to party prohibition style when the parties were bigger, the morals were looser &amp; the liquor was cheaper. \n",
       "<mark class=\"entity\" style=\"background: #ffeb80; padding: 0.45em 0.6em; margin: 0 0.25em; line-height: 1; border-radius: 0.35em;\">\n",
       "    This New Year's Eve\n",
       "    <span style=\"font-size: 0.8em; font-weight: bold; line-height: 1; border-radius: 0.35em; vertical-align: middle; margin-left: 0.5rem\">EVENT</span>\n",
       "</mark>\n",
       ", dress to the nines &amp; \n",
       "<mark class=\"entity\" style=\"background: #ddd; padding: 0.45em 0.6em; margin: 0 0.25em; line-height: 1; border-radius: 0.35em;\">\n",
       "    dance\n",
       "    <span style=\"font-size: 0.8em; font-weight: bold; line-height: 1; border-radius: 0.35em; vertical-align: middle; margin-left: 0.5rem\">TAG</span>\n",
       "</mark>\n",
       " the night away to live jazz by \n",
       "<mark class=\"entity\" style=\"background: #7aecec; padding: 0.45em 0.6em; margin: 0 0.25em; line-height: 1; border-radius: 0.35em;\">\n",
       "    the Mudbug Stompers\n",
       "    <span style=\"font-size: 0.8em; font-weight: bold; line-height: 1; border-radius: 0.35em; vertical-align: middle; margin-left: 0.5rem\">ORG</span>\n",
       "</mark>\n",
       ". With specialty cocktails &amp; a champagne toast at \n",
       "<mark class=\"entity\" style=\"background: #bfe1d9; padding: 0.45em 0.6em; margin: 0 0.25em; line-height: 1; border-radius: 0.35em;\">\n",
       "    midnight\n",
       "    <span style=\"font-size: 0.8em; font-weight: bold; line-height: 1; border-radius: 0.35em; vertical-align: middle; margin-left: 0.5rem\">TIME</span>\n",
       "</mark>\n",
       " — ring in \n",
       "<mark class=\"entity\" style=\"background: #bfe1d9; padding: 0.45em 0.6em; margin: 0 0.25em; line-height: 1; border-radius: 0.35em;\">\n",
       "    '24\n",
       "    <span style=\"font-size: 0.8em; font-weight: bold; line-height: 1; border-radius: 0.35em; vertical-align: middle; margin-left: 0.5rem\">DATE</span>\n",
       "</mark>\n",
       " like the old days! \n",
       "<mark class=\"entity\" style=\"background: #bfe1d9; padding: 0.45em 0.6em; margin: 0 0.25em; line-height: 1; border-radius: 0.35em;\">\n",
       "    21+\n",
       "    <span style=\"font-size: 0.8em; font-weight: bold; line-height: 1; border-radius: 0.35em; vertical-align: middle; margin-left: 0.5rem\">DATE</span>\n",
       "</mark>\n",
       ", \n",
       "<mark class=\"entity\" style=\"background: #ddd; padding: 0.45em 0.6em; margin: 0 0.25em; line-height: 1; border-radius: 0.35em;\">\n",
       "    doors\n",
       "    <span style=\"font-size: 0.8em; font-weight: bold; line-height: 1; border-radius: 0.35em; vertical-align: middle; margin-left: 0.5rem\">PROCESS_ME</span>\n",
       "</mark>\n",
       " at \n",
       "<mark class=\"entity\" style=\"background: #e4e7d2; padding: 0.45em 0.6em; margin: 0 0.25em; line-height: 1; border-radius: 0.35em;\">\n",
       "    9\n",
       "    <span style=\"font-size: 0.8em; font-weight: bold; line-height: 1; border-radius: 0.35em; vertical-align: middle; margin-left: 0.5rem\">CARDINAL</span>\n",
       "</mark>\n",
       "</div></span>"
      ],
      "text/plain": [
       "<IPython.core.display.HTML object>"
      ]
     },
     "metadata": {},
     "output_type": "display_data"
    }
   ],
   "source": [
    "displacy.render(doc, style=\"ent\")"
   ]
  },
  {
   "cell_type": "code",
   "execution_count": 537,
   "metadata": {},
   "outputs": [
    {
     "name": "stdout",
     "output_type": "stream",
     "text": [
      "['dance', 'the mudbug stompers', 'music']\n",
      "['music']\n"
     ]
    }
   ],
   "source": [
    "suggested_tags_output = []\n",
    "\n",
    "for ent in doc.ents:\n",
    "    if ent.label_ in [\"TAG\", \"PERSON\", \"ORG\", \"NORP\", \"PROCESS_ME\"]:\n",
    "\n",
    "        if (ent.label_ != \"PROCESS_ME\"):\n",
    "            #is this the first occurence\n",
    "            if suggested_tags_output.count(ent.text.lower()) == 0:\n",
    "                suggested_tags_output.append(ent.text.lower())   \n",
    "        else:\n",
    "            if ent.text.lower() == \"doors\":\n",
    "                if suggested_tags_output.count(\"music\") == 0:\n",
    "                    suggested_tags_output.append(\"music\")\n",
    "            if ent.text.lower() == \"sculptor\":\n",
    "                if suggested_tags_output.count(\"sculpture\") == 0:\n",
    "                    suggested_tags_output.append(\"sculpture\")\n",
    "            if ent.text.lower() == \"painter\":\n",
    "                if suggested_tags_output.count(\"painting\") == 0:\n",
    "                    suggested_tags_output.append(\"painting\")\n",
    "            if ent.text.lower() == \"nutcracker\":\n",
    "                if suggested_tags_output.count(\"dance\") == 0:\n",
    "                    suggested_tags_output.append(\"dance\")\n",
    "\n",
    "\n",
    "# Special Rules\n",
    "if 'exhibit' in suggested_tags_output:\n",
    "    if suggested_tags_output.count(\"gallery\") == 0:\n",
    "        suggested_tags_output.append(\"gallery\")\n",
    "    if suggested_tags_output.count(\"art\") == 0:\n",
    "        suggested_tags_output.append(\"art\")\n",
    "\n",
    "if 'christmas' in suggested_tags_output:\n",
    "    if suggested_tags_output.count(\"holiday season\") == 0:\n",
    "        suggested_tags_output.append(\"holiday season\") \n",
    "\n",
    "if 'blues' or 'jazz' or 'rock' or 'country' or 'folk' or 'hip hop' or 'punk rock' or 'metal' in suggested_tags_output:\n",
    "    if suggested_tags_output.count(\"music\") == 0:\n",
    "        suggested_tags_output.append(\"music\")          \n",
    "\n",
    "print(suggested_tags_output)\n",
    "print(_event['tags'])"
   ]
  }
 ],
 "metadata": {
  "kernelspec": {
   "display_name": "base",
   "language": "python",
   "name": "python3"
  },
  "language_info": {
   "codemirror_mode": {
    "name": "ipython",
    "version": 3
   },
   "file_extension": ".py",
   "mimetype": "text/x-python",
   "name": "python",
   "nbconvert_exporter": "python",
   "pygments_lexer": "ipython3",
   "version": "3.9.7"
  },
  "orig_nbformat": 4
 },
 "nbformat": 4,
 "nbformat_minor": 2
}
