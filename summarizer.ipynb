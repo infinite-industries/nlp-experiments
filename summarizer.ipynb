{
 "cells": [
  {
   "cell_type": "code",
   "execution_count": 37,
   "metadata": {},
   "outputs": [],
   "source": [
    "# optional text to test stuff skip in most cases\n",
    "text_in = ('Doors at 8pm. Art is important. What happened to holiday season?')"
   ]
  },
  {
   "cell_type": "code",
   "execution_count": 38,
   "metadata": {},
   "outputs": [],
   "source": [
    "from langchain.llms import Ollama\n",
    "from langchain.prompts import PromptTemplate\n",
    "from langchain.chains import LLMChain   \n",
    "\n",
    "import json\n",
    "\n",
    "from bs4 import BeautifulSoup                    \n",
    "\n",
    "llm = Ollama(model=\"mistral\")"
   ]
  },
  {
   "cell_type": "code",
   "execution_count": 39,
   "metadata": {},
   "outputs": [
    {
     "name": "stdout",
     "output_type": "stream",
     "text": [
      "44\n",
      "{'admission_fee': 'free', 'bitly_link': None, 'brief_description': 'An interactive exhibit experience with artwork by sculptor and painter John Tuska.', 'createdAt': '2023-12-06T20:05:58.791Z', 'description': '<p>An interactive exhibit experience providing a moment to reflect upon your body, mind, and spirit with the artwork of sculptor and painter John Tuska.</p>', 'eventbrite_link': None, 'fb_event_link': 'https://www.facebook.com/tuskainc', 'id': 'd0252560-ca8c-4522-87f0-53f47fb3eccd', 'image': 'https://infinite.industries/uploads/545d0438-6f68-4dbd-9b2b-a5054bb396d2.jpg', 'links': [], 'reviewed_by_org': None, 'slug': \"mythos:-tuska's-art-of-self-reflection\", 'social_image': '', 'tags': ['gallery'], 'category': 'gallery-show', 'condition': [], 'mode': 'in-person', 'ticket_link': '', 'title': \"Mythos: Tuska's Art of Self Reflection\", 'updatedAt': '2023-12-07T17:51:11.889Z', 'venue_id': '597ba75c-4832-41ea-9106-01f6cfd5b88c', 'verified': True, 'website_link': 'https://www.tuskastore.com/tuska-studio-home', 'multi_day': False, 'date_times': [{'id': None, 'start_time': '2023-12-22T14:30:00.000Z', 'end_time': '2023-12-22T23:00:00.000Z', 'venue_id': '597ba75c-4832-41ea-9106-01f6cfd5b88c', 'timezone': 'US/Eastern', 'optional_title': ''}, {'id': None, 'start_time': '2023-12-23T14:30:00.000Z', 'end_time': '2023-12-23T22:00:00.000Z', 'venue_id': '597ba75c-4832-41ea-9106-01f6cfd5b88c', 'timezone': 'US/Eastern', 'optional_title': ''}, {'id': None, 'start_time': '2023-12-26T14:30:00.000Z', 'end_time': '2023-12-27T00:00:00.000Z', 'venue_id': '597ba75c-4832-41ea-9106-01f6cfd5b88c', 'timezone': 'US/Eastern', 'optional_title': ''}, {'id': None, 'start_time': '2023-12-27T14:30:00.000Z', 'end_time': '2023-12-28T00:00:00.000Z', 'venue_id': '597ba75c-4832-41ea-9106-01f6cfd5b88c', 'timezone': 'US/Eastern', 'optional_title': ''}, {'id': None, 'start_time': '2023-12-28T14:30:00.000Z', 'end_time': '2023-12-29T00:00:00.000Z', 'venue_id': '597ba75c-4832-41ea-9106-01f6cfd5b88c', 'timezone': 'US/Eastern', 'optional_title': ''}, {'id': None, 'start_time': '2023-12-29T14:30:00.000Z', 'end_time': '2023-12-29T23:00:00.000Z', 'venue_id': '597ba75c-4832-41ea-9106-01f6cfd5b88c', 'timezone': 'US/Eastern', 'optional_title': ''}, {'id': None, 'start_time': '2023-12-30T14:30:00.000Z', 'end_time': '2023-12-30T22:00:00.000Z', 'venue_id': '597ba75c-4832-41ea-9106-01f6cfd5b88c', 'timezone': 'US/Eastern', 'optional_title': ''}, {'id': None, 'start_time': '2023-12-31T18:00:00.000Z', 'end_time': '2023-12-31T22:00:00.000Z', 'venue_id': '597ba75c-4832-41ea-9106-01f6cfd5b88c', 'timezone': 'US/Eastern', 'optional_title': ''}, {'id': None, 'start_time': '2024-01-02T14:30:00.000Z', 'end_time': '2024-01-03T00:00:00.000Z', 'venue_id': '597ba75c-4832-41ea-9106-01f6cfd5b88c', 'timezone': 'US/Eastern', 'optional_title': ''}, {'id': None, 'start_time': '2024-01-03T14:30:00.000Z', 'end_time': '2024-01-04T00:00:00.000Z', 'venue_id': '597ba75c-4832-41ea-9106-01f6cfd5b88c', 'timezone': 'US/Eastern', 'optional_title': ''}, {'id': None, 'start_time': '2024-01-04T14:30:00.000Z', 'end_time': '2024-01-05T00:00:00.000Z', 'venue_id': '597ba75c-4832-41ea-9106-01f6cfd5b88c', 'timezone': 'US/Eastern', 'optional_title': ''}, {'id': None, 'start_time': '2024-01-05T14:30:00.000Z', 'end_time': '2024-01-05T23:00:00.000Z', 'venue_id': '597ba75c-4832-41ea-9106-01f6cfd5b88c', 'timezone': 'US/Eastern', 'optional_title': ''}, {'id': None, 'start_time': '2024-01-06T14:30:00.000Z', 'end_time': '2024-01-06T22:00:00.000Z', 'venue_id': '597ba75c-4832-41ea-9106-01f6cfd5b88c', 'timezone': 'US/Eastern', 'optional_title': ''}, {'id': None, 'start_time': '2024-01-07T18:00:00.000Z', 'end_time': '2024-01-07T22:00:00.000Z', 'venue_id': '597ba75c-4832-41ea-9106-01f6cfd5b88c', 'timezone': 'US/Eastern', 'optional_title': ''}, {'id': None, 'start_time': '2024-01-08T14:30:00.000Z', 'end_time': '2024-01-09T00:00:00.000Z', 'venue_id': '597ba75c-4832-41ea-9106-01f6cfd5b88c', 'timezone': 'US/Eastern', 'optional_title': ''}, {'id': None, 'start_time': '2024-01-09T14:30:00.000Z', 'end_time': '2024-01-10T00:00:00.000Z', 'venue_id': '597ba75c-4832-41ea-9106-01f6cfd5b88c', 'timezone': 'US/Eastern', 'optional_title': ''}, {'id': None, 'start_time': '2024-01-10T14:30:00.000Z', 'end_time': '2024-01-11T00:00:00.000Z', 'venue_id': '597ba75c-4832-41ea-9106-01f6cfd5b88c', 'timezone': 'US/Eastern', 'optional_title': ''}, {'id': None, 'start_time': '2024-01-11T14:30:00.000Z', 'end_time': '2024-01-12T00:00:00.000Z', 'venue_id': '597ba75c-4832-41ea-9106-01f6cfd5b88c', 'timezone': 'US/Eastern', 'optional_title': ''}, {'id': None, 'start_time': '2024-01-12T14:30:00.000Z', 'end_time': '2024-01-12T23:00:00.000Z', 'venue_id': '597ba75c-4832-41ea-9106-01f6cfd5b88c', 'timezone': 'US/Eastern', 'optional_title': ''}, {'id': None, 'start_time': '2024-01-13T14:30:00.000Z', 'end_time': '2024-01-13T22:00:00.000Z', 'venue_id': '597ba75c-4832-41ea-9106-01f6cfd5b88c', 'timezone': 'US/Eastern', 'optional_title': ''}, {'id': None, 'start_time': '2024-01-14T18:00:00.000Z', 'end_time': '2024-01-14T22:00:00.000Z', 'venue_id': '597ba75c-4832-41ea-9106-01f6cfd5b88c', 'timezone': 'US/Eastern', 'optional_title': ''}, {'id': None, 'start_time': '2024-01-16T14:30:00.000Z', 'end_time': '2024-01-17T00:00:00.000Z', 'venue_id': '597ba75c-4832-41ea-9106-01f6cfd5b88c', 'timezone': 'US/Eastern', 'optional_title': ''}, {'id': None, 'start_time': '2024-01-17T14:30:00.000Z', 'end_time': '2024-01-18T00:00:00.000Z', 'venue_id': '597ba75c-4832-41ea-9106-01f6cfd5b88c', 'timezone': 'US/Eastern', 'optional_title': ''}, {'id': None, 'start_time': '2024-01-18T14:30:00.000Z', 'end_time': '2024-01-19T00:00:00.000Z', 'venue_id': '597ba75c-4832-41ea-9106-01f6cfd5b88c', 'timezone': 'US/Eastern', 'optional_title': ''}, {'id': None, 'start_time': '2024-01-19T14:30:00.000Z', 'end_time': '2024-01-19T23:00:00.000Z', 'venue_id': '597ba75c-4832-41ea-9106-01f6cfd5b88c', 'timezone': 'US/Eastern', 'optional_title': ''}, {'id': None, 'start_time': '2024-01-20T14:30:00.000Z', 'end_time': '2024-01-20T22:00:00.000Z', 'venue_id': '597ba75c-4832-41ea-9106-01f6cfd5b88c', 'timezone': 'US/Eastern', 'optional_title': ''}, {'id': None, 'start_time': '2024-01-21T18:00:00.000Z', 'end_time': '2024-01-21T22:00:00.000Z', 'venue_id': '597ba75c-4832-41ea-9106-01f6cfd5b88c', 'timezone': 'US/Eastern', 'optional_title': ''}, {'id': None, 'start_time': '2024-01-22T14:30:00.000Z', 'end_time': '2024-01-23T00:00:00.000Z', 'venue_id': '597ba75c-4832-41ea-9106-01f6cfd5b88c', 'timezone': 'US/Eastern', 'optional_title': ''}, {'id': None, 'start_time': '2024-01-23T14:30:00.000Z', 'end_time': '2024-01-24T00:00:00.000Z', 'venue_id': '597ba75c-4832-41ea-9106-01f6cfd5b88c', 'timezone': 'US/Eastern', 'optional_title': ''}, {'id': None, 'start_time': '2024-01-24T14:30:00.000Z', 'end_time': '2024-01-25T00:00:00.000Z', 'venue_id': '597ba75c-4832-41ea-9106-01f6cfd5b88c', 'timezone': 'US/Eastern', 'optional_title': ''}, {'id': None, 'start_time': '2024-01-25T14:30:00.000Z', 'end_time': '2024-01-26T00:00:00.000Z', 'venue_id': '597ba75c-4832-41ea-9106-01f6cfd5b88c', 'timezone': 'US/Eastern', 'optional_title': ''}, {'id': None, 'start_time': '2024-01-26T14:30:00.000Z', 'end_time': '2024-01-26T23:00:00.000Z', 'venue_id': '597ba75c-4832-41ea-9106-01f6cfd5b88c', 'timezone': 'US/Eastern', 'optional_title': ''}, {'id': None, 'start_time': '2024-01-27T14:30:00.000Z', 'end_time': '2024-01-27T22:00:00.000Z', 'venue_id': '597ba75c-4832-41ea-9106-01f6cfd5b88c', 'timezone': 'US/Eastern', 'optional_title': ''}, {'id': None, 'start_time': '2024-01-28T18:00:00.000Z', 'end_time': '2024-01-28T22:00:00.000Z', 'venue_id': '597ba75c-4832-41ea-9106-01f6cfd5b88c', 'timezone': 'US/Eastern', 'optional_title': ''}, {'id': None, 'start_time': '2024-01-29T14:30:00.000Z', 'end_time': '2024-01-30T00:00:00.000Z', 'venue_id': '597ba75c-4832-41ea-9106-01f6cfd5b88c', 'timezone': 'US/Eastern', 'optional_title': ''}, {'id': None, 'start_time': '2024-01-30T14:30:00.000Z', 'end_time': '2024-01-31T00:00:00.000Z', 'venue_id': '597ba75c-4832-41ea-9106-01f6cfd5b88c', 'timezone': 'US/Eastern', 'optional_title': ''}, {'id': None, 'start_time': '2024-01-31T14:30:00.000Z', 'end_time': '2024-02-01T00:00:00.000Z', 'venue_id': '597ba75c-4832-41ea-9106-01f6cfd5b88c', 'timezone': 'US/Eastern', 'optional_title': ''}, {'id': None, 'start_time': '2024-02-01T14:30:00.000Z', 'end_time': '2024-02-02T00:00:00.000Z', 'venue_id': '597ba75c-4832-41ea-9106-01f6cfd5b88c', 'timezone': 'US/Eastern', 'optional_title': ''}, {'id': None, 'start_time': '2024-02-02T14:30:00.000Z', 'end_time': '2024-02-02T23:00:00.000Z', 'venue_id': '597ba75c-4832-41ea-9106-01f6cfd5b88c', 'timezone': 'US/Eastern', 'optional_title': ''}, {'id': None, 'start_time': '2024-02-03T14:30:00.000Z', 'end_time': '2024-02-03T22:00:00.000Z', 'venue_id': '597ba75c-4832-41ea-9106-01f6cfd5b88c', 'timezone': 'US/Eastern', 'optional_title': ''}, {'id': None, 'start_time': '2024-02-04T18:00:00.000Z', 'end_time': '2024-02-04T22:00:00.000Z', 'venue_id': '597ba75c-4832-41ea-9106-01f6cfd5b88c', 'timezone': 'US/Eastern', 'optional_title': ''}, {'id': None, 'start_time': '2024-02-05T14:30:00.000Z', 'end_time': '2024-02-06T00:00:00.000Z', 'venue_id': '597ba75c-4832-41ea-9106-01f6cfd5b88c', 'timezone': 'US/Eastern', 'optional_title': ''}, {'id': None, 'start_time': '2024-02-06T14:30:00.000Z', 'end_time': '2024-02-07T00:00:00.000Z', 'venue_id': '597ba75c-4832-41ea-9106-01f6cfd5b88c', 'timezone': 'US/Eastern', 'optional_title': ''}, {'id': None, 'start_time': '2024-02-07T14:30:00.000Z', 'end_time': '2024-02-08T00:00:00.000Z', 'venue_id': '597ba75c-4832-41ea-9106-01f6cfd5b88c', 'timezone': 'US/Eastern', 'optional_title': ''}, {'id': None, 'start_time': '2024-02-08T14:30:00.000Z', 'end_time': '2024-02-09T00:00:00.000Z', 'venue_id': '597ba75c-4832-41ea-9106-01f6cfd5b88c', 'timezone': 'US/Eastern', 'optional_title': ''}, {'id': None, 'start_time': '2024-02-09T14:30:00.000Z', 'end_time': '2024-02-09T23:00:00.000Z', 'venue_id': '597ba75c-4832-41ea-9106-01f6cfd5b88c', 'timezone': 'US/Eastern', 'optional_title': ''}, {'id': None, 'start_time': '2024-02-10T14:30:00.000Z', 'end_time': '2024-02-10T22:00:00.000Z', 'venue_id': '597ba75c-4832-41ea-9106-01f6cfd5b88c', 'timezone': 'US/Eastern', 'optional_title': ''}, {'id': None, 'start_time': '2024-02-11T18:00:00.000Z', 'end_time': '2024-02-11T22:00:00.000Z', 'venue_id': '597ba75c-4832-41ea-9106-01f6cfd5b88c', 'timezone': 'US/Eastern', 'optional_title': ''}, {'id': None, 'start_time': '2024-02-12T14:30:00.000Z', 'end_time': '2024-02-13T00:00:00.000Z', 'venue_id': '597ba75c-4832-41ea-9106-01f6cfd5b88c', 'timezone': 'US/Eastern', 'optional_title': ''}, {'id': None, 'start_time': '2024-02-13T14:30:00.000Z', 'end_time': '2024-02-14T00:00:00.000Z', 'venue_id': '597ba75c-4832-41ea-9106-01f6cfd5b88c', 'timezone': 'US/Eastern', 'optional_title': ''}, {'id': None, 'start_time': '2024-02-14T14:30:00.000Z', 'end_time': '2024-02-15T00:00:00.000Z', 'venue_id': '597ba75c-4832-41ea-9106-01f6cfd5b88c', 'timezone': 'US/Eastern', 'optional_title': ''}, {'id': None, 'start_time': '2024-02-15T14:30:00.000Z', 'end_time': '2024-02-16T00:00:00.000Z', 'venue_id': '597ba75c-4832-41ea-9106-01f6cfd5b88c', 'timezone': 'US/Eastern', 'optional_title': ''}, {'id': None, 'start_time': '2024-02-16T14:30:00.000Z', 'end_time': '2024-02-16T23:00:00.000Z', 'venue_id': '597ba75c-4832-41ea-9106-01f6cfd5b88c', 'timezone': 'US/Eastern', 'optional_title': ''}, {'id': None, 'start_time': '2024-02-17T14:30:00.000Z', 'end_time': '2024-02-17T22:00:00.000Z', 'venue_id': '597ba75c-4832-41ea-9106-01f6cfd5b88c', 'timezone': 'US/Eastern', 'optional_title': ''}, {'id': None, 'start_time': '2024-02-18T18:00:00.000Z', 'end_time': '2024-02-18T22:00:00.000Z', 'venue_id': '597ba75c-4832-41ea-9106-01f6cfd5b88c', 'timezone': 'US/Eastern', 'optional_title': ''}, {'id': None, 'start_time': '2024-02-19T14:30:00.000Z', 'end_time': '2024-02-20T00:00:00.000Z', 'venue_id': '597ba75c-4832-41ea-9106-01f6cfd5b88c', 'timezone': 'US/Eastern', 'optional_title': ''}, {'id': None, 'start_time': '2024-02-20T14:30:00.000Z', 'end_time': '2024-02-21T00:00:00.000Z', 'venue_id': '597ba75c-4832-41ea-9106-01f6cfd5b88c', 'timezone': 'US/Eastern', 'optional_title': ''}, {'id': None, 'start_time': '2024-02-21T14:30:00.000Z', 'end_time': '2024-02-22T00:00:00.000Z', 'venue_id': '597ba75c-4832-41ea-9106-01f6cfd5b88c', 'timezone': 'US/Eastern', 'optional_title': ''}, {'id': None, 'start_time': '2024-02-22T14:30:00.000Z', 'end_time': '2024-02-23T00:00:00.000Z', 'venue_id': '597ba75c-4832-41ea-9106-01f6cfd5b88c', 'timezone': 'US/Eastern', 'optional_title': ''}, {'id': None, 'start_time': '2024-02-23T14:30:00.000Z', 'end_time': '2024-02-23T23:00:00.000Z', 'venue_id': '597ba75c-4832-41ea-9106-01f6cfd5b88c', 'timezone': 'US/Eastern', 'optional_title': ''}, {'id': None, 'start_time': '2024-02-24T14:30:00.000Z', 'end_time': '2024-02-24T22:00:00.000Z', 'venue_id': '597ba75c-4832-41ea-9106-01f6cfd5b88c', 'timezone': 'US/Eastern', 'optional_title': ''}, {'id': None, 'start_time': '2024-02-25T18:00:00.000Z', 'end_time': '2024-02-25T22:00:00.000Z', 'venue_id': '597ba75c-4832-41ea-9106-01f6cfd5b88c', 'timezone': 'US/Eastern', 'optional_title': ''}, {'id': None, 'start_time': '2024-02-26T14:30:00.000Z', 'end_time': '2024-02-27T00:00:00.000Z', 'venue_id': '597ba75c-4832-41ea-9106-01f6cfd5b88c', 'timezone': 'US/Eastern', 'optional_title': ''}, {'id': None, 'start_time': '2024-02-27T14:30:00.000Z', 'end_time': '2024-02-28T00:00:00.000Z', 'venue_id': '597ba75c-4832-41ea-9106-01f6cfd5b88c', 'timezone': 'US/Eastern', 'optional_title': ''}, {'id': None, 'start_time': '2024-02-28T14:30:00.000Z', 'end_time': '2024-02-29T00:00:00.000Z', 'venue_id': '597ba75c-4832-41ea-9106-01f6cfd5b88c', 'timezone': 'US/Eastern', 'optional_title': ''}, {'id': None, 'start_time': '2024-02-29T14:30:00.000Z', 'end_time': '2024-03-01T00:00:00.000Z', 'venue_id': '597ba75c-4832-41ea-9106-01f6cfd5b88c', 'timezone': 'US/Eastern', 'optional_title': ''}], 'venue': None}\n"
     ]
    }
   ],
   "source": [
    "events = open('./data/sample_events.json')\n",
    "event_data = json.load(events)\n",
    "\n",
    "print(len(event_data['events']))\n",
    "print(event_data['events'][0])"
   ]
  },
  {
   "cell_type": "code",
   "execution_count": 59,
   "metadata": {},
   "outputs": [
    {
     "name": "stdout",
     "output_type": "stream",
     "text": [
      "<p>The Dave Brubeck Quartet made a splash in the jazz world of the 1950s with a singular style that put swing into classical music and defined the sound of West Coast cool jazz. More than a hundred years after Brubeck's birth, the Brubeck Brothers Quartet pays tribute to the legendary pianist and bandleader.</p>\n",
      "The Dave Brubeck Quartet made a splash in the jazz world of the 1950s with a singular style that put swing into classical music and defined the sound of West Coast cool jazz. More than a hundred years after Brubeck's birth, the Brubeck Brothers Quartet pays tribute to the legendary pianist and bandleader.\n"
     ]
    }
   ],
   "source": [
    "_event = event_data['events'][40]       #CHANGE ME!!!!! Think through 5 and 6 -- 40,20,10\n",
    "\n",
    "print(_event['description'])\n",
    "soupy = BeautifulSoup(_event['description'])\n",
    "event_description = soupy.get_text(separator=' ')\n",
    "\n",
    "doc = event_description\n",
    "#doc = text_in\n",
    "\n",
    "print(event_description)"
   ]
  },
  {
   "cell_type": "code",
   "execution_count": 60,
   "metadata": {},
   "outputs": [],
   "source": [
    "# prompt = PromptTemplate.from_template(\"Tell me a joke\")\n",
    "# prompt.format()\n",
    "\n",
    "\n",
    "prompt = PromptTemplate(\n",
    "    template=\"You are inviting people to come out to this event. Summarize the following information in roughly 120 characters.\\n\\n{event_description}\\nTry to keep information neutral. DO NOT include any hashtags.\",\n",
    "    input_variables=[\"event_description\"]\n",
    ")"
   ]
  },
  {
   "cell_type": "code",
   "execution_count": 61,
   "metadata": {},
   "outputs": [
    {
     "name": "stdout",
     "output_type": "stream",
     "text": [
      "Experience the legacy of Dave Brubeck as the Brubeck Brothers Quartet pays tribute to the legendary pianist and bandleader. Join us for an evening of West Coast cool jazz.\n"
     ]
    }
   ],
   "source": [
    "chain = LLMChain(llm=llm, prompt=prompt, verbose=False)\n",
    "\n",
    "print(chain.run({'event_description': event_description}))"
   ]
  }
 ],
 "metadata": {
  "kernelspec": {
   "display_name": "base",
   "language": "python",
   "name": "python3"
  },
  "language_info": {
   "codemirror_mode": {
    "name": "ipython",
    "version": 3
   },
   "file_extension": ".py",
   "mimetype": "text/x-python",
   "name": "python",
   "nbconvert_exporter": "python",
   "pygments_lexer": "ipython3",
   "version": "3.9.7"
  }
 },
 "nbformat": 4,
 "nbformat_minor": 2
}
